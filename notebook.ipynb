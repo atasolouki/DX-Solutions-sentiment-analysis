{
 "cells": [
  {
   "cell_type": "markdown",
   "metadata": {},
   "source": [
    "# Sentiment Analysis of Customer Feedback\n",
    "\n",
    "This notebook demonstrates how to perform sentiment analysis on textual customer feedback using a pre-trained transformer model from the `transformers` library. We'll also visualize the sentiment distribution to gain insights.\n",
    "\n",
    "---\n",
    "\n",
    "## Step 1: Import Required Libraries\n",
    "\n",
    "We begin by importing necessary Python libraries for:\n",
    "\n",
    "- Data manipulation (`pandas`)\n",
    "- Natural Language Processing (`transformers`)\n",
    "- Data visualization (`matplotlib`, `seaborn`)\n",
    "- Environment variable configuration (`os`)\n"
   ]
  },
  {
   "cell_type": "code",
   "execution_count": 2,
   "metadata": {},
   "outputs": [],
   "source": [
    "# Import required libraries\n",
    "import pandas as pd\n",
    "from transformers import pipeline\n",
    "import matplotlib.pyplot as plt\n",
    "import seaborn as sns\n",
    "import os\n",
    "\n",
    "# (Optional) Reset PyTorch CUDA memory configuration to avoid potential runtime issues\n",
    "os.environ[\"PYTORCH_CUDA_ALLOC_CONF\"] = \"\"\n"
   ]
  },
  {
   "cell_type": "markdown",
   "metadata": {},
   "source": [
    "## Step 2: Load Dataset & Initialize Sentiment Analyzer\n",
    "\n",
    "We load a dataset containing customer feedback from a CSV file. Then, we use the Hugging Face 🤗 `transformers` library to initialize a pre-trained sentiment analysis pipeline based on the `distilbert-base-uncased-finetuned-sst-2-english` model.\n",
    "\n",
    "- This model is fine-tuned for sentiment classification into **Positive** and **Negative** categories.\n"
   ]
  },
  {
   "cell_type": "code",
   "execution_count": 3,
   "metadata": {},
   "outputs": [
    {
     "data": {
      "text/html": [
       "<div>\n",
       "<style scoped>\n",
       "    .dataframe tbody tr th:only-of-type {\n",
       "        vertical-align: middle;\n",
       "    }\n",
       "\n",
       "    .dataframe tbody tr th {\n",
       "        vertical-align: top;\n",
       "    }\n",
       "\n",
       "    .dataframe thead th {\n",
       "        text-align: right;\n",
       "    }\n",
       "</style>\n",
       "<table border=\"1\" class=\"dataframe\">\n",
       "  <thead>\n",
       "    <tr style=\"text-align: right;\">\n",
       "      <th></th>\n",
       "      <th>feedback</th>\n",
       "    </tr>\n",
       "  </thead>\n",
       "  <tbody>\n",
       "    <tr>\n",
       "      <th>0</th>\n",
       "      <td>This app is amazing and easy to use!</td>\n",
       "    </tr>\n",
       "    <tr>\n",
       "      <th>1</th>\n",
       "      <td>The interface is terrible and slow.</td>\n",
       "    </tr>\n",
       "    <tr>\n",
       "      <th>2</th>\n",
       "      <td>It's okay, nothing special.</td>\n",
       "    </tr>\n",
       "    <tr>\n",
       "      <th>3</th>\n",
       "      <td>Love the new features!</td>\n",
       "    </tr>\n",
       "    <tr>\n",
       "      <th>4</th>\n",
       "      <td>Crashes frequently, very frustrating.</td>\n",
       "    </tr>\n",
       "  </tbody>\n",
       "</table>\n",
       "</div>"
      ],
      "text/plain": [
       "                                feedback\n",
       "0   This app is amazing and easy to use!\n",
       "1    The interface is terrible and slow.\n",
       "2            It's okay, nothing special.\n",
       "3                 Love the new features!\n",
       "4  Crashes frequently, very frustrating."
      ]
     },
     "execution_count": 3,
     "metadata": {},
     "output_type": "execute_result"
    }
   ],
   "source": [
    "# Load dataset\n",
    "df = pd.read_csv('dataset.csv')\n",
    "\n",
    "# Display the first few rows of the dataset\n",
    "df.head()\n"
   ]
  },
  {
   "cell_type": "code",
   "execution_count": 4,
   "metadata": {},
   "outputs": [
    {
     "name": "stderr",
     "output_type": "stream",
     "text": [
      "Device set to use cuda:0\n"
     ]
    }
   ],
   "source": [
    "# Initialize the sentiment analysis pipeline\n",
    "classifier = pipeline('sentiment-analysis', model='distilbert-base-uncased-finetuned-sst-2-english')\n"
   ]
  },
  {
   "cell_type": "markdown",
   "metadata": {},
   "source": [
    "## Step 3: Analyze Sentiment for Each Feedback\n",
    "\n",
    "We apply the sentiment classifier to each customer feedback using `apply()`.  \n",
    "For each feedback entry, we extract:\n",
    "- The **sentiment label** (Positive/Negative)\n",
    "- The **confidence score** (model’s certainty)\n",
    "\n",
    "These results are stored in new columns: `sentiment` and `score`.\n"
   ]
  },
  {
   "cell_type": "code",
   "execution_count": 5,
   "metadata": {},
   "outputs": [
    {
     "data": {
      "text/html": [
       "<div>\n",
       "<style scoped>\n",
       "    .dataframe tbody tr th:only-of-type {\n",
       "        vertical-align: middle;\n",
       "    }\n",
       "\n",
       "    .dataframe tbody tr th {\n",
       "        vertical-align: top;\n",
       "    }\n",
       "\n",
       "    .dataframe thead th {\n",
       "        text-align: right;\n",
       "    }\n",
       "</style>\n",
       "<table border=\"1\" class=\"dataframe\">\n",
       "  <thead>\n",
       "    <tr style=\"text-align: right;\">\n",
       "      <th></th>\n",
       "      <th>feedback</th>\n",
       "      <th>sentiment</th>\n",
       "      <th>score</th>\n",
       "    </tr>\n",
       "  </thead>\n",
       "  <tbody>\n",
       "    <tr>\n",
       "      <th>0</th>\n",
       "      <td>This app is amazing and easy to use!</td>\n",
       "      <td>POSITIVE</td>\n",
       "      <td>0.999852</td>\n",
       "    </tr>\n",
       "    <tr>\n",
       "      <th>1</th>\n",
       "      <td>The interface is terrible and slow.</td>\n",
       "      <td>NEGATIVE</td>\n",
       "      <td>0.999770</td>\n",
       "    </tr>\n",
       "    <tr>\n",
       "      <th>2</th>\n",
       "      <td>It's okay, nothing special.</td>\n",
       "      <td>NEGATIVE</td>\n",
       "      <td>0.818960</td>\n",
       "    </tr>\n",
       "    <tr>\n",
       "      <th>3</th>\n",
       "      <td>Love the new features!</td>\n",
       "      <td>POSITIVE</td>\n",
       "      <td>0.999883</td>\n",
       "    </tr>\n",
       "    <tr>\n",
       "      <th>4</th>\n",
       "      <td>Crashes frequently, very frustrating.</td>\n",
       "      <td>NEGATIVE</td>\n",
       "      <td>0.999304</td>\n",
       "    </tr>\n",
       "  </tbody>\n",
       "</table>\n",
       "</div>"
      ],
      "text/plain": [
       "                                feedback sentiment     score\n",
       "0   This app is amazing and easy to use!  POSITIVE  0.999852\n",
       "1    The interface is terrible and slow.  NEGATIVE  0.999770\n",
       "2            It's okay, nothing special.  NEGATIVE  0.818960\n",
       "3                 Love the new features!  POSITIVE  0.999883\n",
       "4  Crashes frequently, very frustrating.  NEGATIVE  0.999304"
      ]
     },
     "execution_count": 5,
     "metadata": {},
     "output_type": "execute_result"
    }
   ],
   "source": [
    "# Perform sentiment analysis and store results\n",
    "df['sentiment'] = df['feedback'].apply(lambda x: classifier(x)[0]['label'])\n",
    "df['score'] = df['feedback'].apply(lambda x: classifier(x)[0]['score'])\n",
    "\n",
    "# Show updated DataFrame\n",
    "df.head()\n"
   ]
  },
  {
   "cell_type": "code",
   "execution_count": 6,
   "metadata": {},
   "outputs": [],
   "source": [
    "# Map raw sentiment labels to readable format\n",
    "df['sentiment'] = df['sentiment'].map({'POSITIVE': 'Positive', 'NEGATIVE': 'Negative'})\n"
   ]
  },
  {
   "cell_type": "markdown",
   "metadata": {},
   "source": [
    "## Step 4: Visualize the Sentiment Distribution\n",
    "\n",
    "To better understand the overall sentiment in the feedback, we plot a bar chart using Seaborn.  \n",
    "This gives us a quick overview of how many feedback entries are Positive vs. Negative.\n"
   ]
  },
  {
   "cell_type": "code",
   "execution_count": 7,
   "metadata": {},
   "outputs": [
    {
     "name": "stderr",
     "output_type": "stream",
     "text": [
      "/tmp/ipykernel_2561970/2439839276.py:5: FutureWarning: \n",
      "\n",
      "Passing `palette` without assigning `hue` is deprecated and will be removed in v0.14.0. Assign the `x` variable to `hue` and set `legend=False` for the same effect.\n",
      "\n",
      "  sns.countplot(x='sentiment', data=df, palette='viridis')\n"
     ]
    },
    {
     "data": {
      "image/png": "[encoded data removed]",
      "text/plain": [
       "<Figure size 800x500 with 1 Axes>"
      ]
     },
     "metadata": {},
     "output_type": "display_data"
    }
   ],
   "source": [
    "# Set figure size\n",
    "plt.figure(figsize=(8, 5))\n",
    "\n",
    "# Create count plot for sentiment\n",
    "sns.countplot(x='sentiment', data=df, palette='viridis')\n",
    "\n",
    "# Add plot titles and labels\n",
    "plt.title('Sentiment Distribution of Feedback')\n",
    "plt.xlabel('Sentiment')\n",
    "plt.ylabel('Count')\n",
    "\n",
    "# Show the plot\n",
    "plt.show()\n"
   ]
  },
  {
   "cell_type": "code",
   "execution_count": null,
   "metadata": {},
   "outputs": [],
   "source": []
  }
 ],
 "metadata": {
  "kernelspec": {
   "display_name": "venv",
   "language": "python",
   "name": "python3"
  },
  "language_info": {
   "codemirror_mode": {
    "name": "ipython",
    "version": 3
   },
   "file_extension": ".py",
   "mimetype": "text/x-python",
   "name": "python",
   "nbconvert_exporter": "python",
   "pygments_lexer": "ipython3",
   "version": "3.9.13"
  }
 },
 "nbformat": 4,
 "nbformat_minor": 2
}
